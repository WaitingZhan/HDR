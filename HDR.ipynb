{
 "cells": [
  {
   "cell_type": "code",
   "execution_count": 1,
   "metadata": {},
   "outputs": [],
   "source": [
    "import cv2\n",
    "import numpy as np\n",
    "from matplotlib import pyplot as plt\n",
    "import sys\n",
    "import PIL\n",
    "from PIL import Image\n",
    "import os"
   ]
  },
  {
   "cell_type": "code",
   "execution_count": 2,
   "metadata": {},
   "outputs": [],
   "source": [
    "# Part 1: Camera radiometric calibration\n",
    "# 1.1 Read the Original Picture,crop out a central portion of each images"
   ]
  },
  {
   "cell_type": "code",
   "execution_count": 3,
   "metadata": {},
   "outputs": [],
   "source": [
    "\n",
    "dirListing = os.listdir('./Resourse/calibration/')\n",
    "list_im = []\n",
    "for item in dirListing:\n",
    "        list_im.append('./Resourse/calibration/'+item)\n",
    "   "
   ]
  },
  {
   "cell_type": "code",
   "execution_count": 4,
   "metadata": {},
   "outputs": [
    {
     "name": "stdout",
     "output_type": "stream",
     "text": [
      "['./Resourse/calibration/.DS_Store', './Resourse/calibration/8.JPG', './Resourse/calibration/9.JPG', './Resourse/calibration/10.JPG', './Resourse/calibration/4.JPG', './Resourse/calibration/5.JPG', './Resourse/calibration/7.JPG', './Resourse/calibration/6.JPG', './Resourse/calibration/2.JPG', './Resourse/calibration/3.JPG', './Resourse/calibration/1.JPG']\n"
     ]
    }
   ],
   "source": [
    "print(list_im)"
   ]
  },
  {
   "cell_type": "code",
   "execution_count": 5,
   "metadata": {},
   "outputs": [],
   "source": [
    "for i in list_im:\n",
    "    if i == \"./Resourse/calibration/.DS_Store\":continue\n",
    "    else:\n",
    "        img = cv2.imread(i)\n",
    "        #print(i)\n",
    "        cropped = img[1500:1600, 2000:2100]\n",
    "        filename = i.replace(\"calibration\",\"crop\")\n",
    "        #print(filename)\n",
    "        cv2.imwrite(filename,cropped)"
   ]
  },
  {
   "cell_type": "code",
   "execution_count": 6,
   "metadata": {},
   "outputs": [],
   "source": [
    "#split the crop image into RGB \n",
    "for i in range (1,11):\n",
    "    filename = \"./Images/crop/\" + str(i) + \".jpg\"\n",
    "    #print(filename)\n",
    "    image = cv2.imread(filename)\n",
    "    filenameB = \"./cropB/\" + str(i) + \".jpg\"\n",
    "    filenameR = \"./cropR/\" + str(i)  + \".jpg\"\n",
    "    filenameG = \"./cropG/\" + str(i)  + \".jpg\"\n",
    "    image = cv2.imread(filename)\n",
    "\n",
    "    b = image.copy()\n",
    "    # set green and red channels to 0\n",
    "    b[:, :, 1] = 0\n",
    "    b[:, :, 2] = 0\n",
    "\n",
    "\n",
    "    g = image.copy()\n",
    "    # set blue and red channels to 0\n",
    "    g[:, :, 0] = 0\n",
    "    g[:, :, 2] = 0\n",
    "\n",
    "    r = image.copy()\n",
    "    # set blue and green channels to 0\n",
    "    r[:, :, 0] = 0\n",
    "    r[:, :, 1] = 0\n",
    "    \n",
    "    #RGB - Blue\n",
    "    cv2.imwrite(filenameB,b)\n",
    "    # RGB - Green\n",
    "    cv2.imwrite(filenameG,g)\n",
    "    # RGB Red\n",
    "    cv2.imwrite(filenameR,r)\n",
    "\n"
   ]
  },
  {
   "cell_type": "code",
   "execution_count": 7,
   "metadata": {},
   "outputs": [],
   "source": [
    "# 1.2 break down the original image into RGB channel"
   ]
  },
  {
   "cell_type": "code",
   "execution_count": 8,
   "metadata": {},
   "outputs": [],
   "source": [
    "# average brighterness value"
   ]
  },
  {
   "cell_type": "code",
   "execution_count": 9,
   "metadata": {},
   "outputs": [],
   "source": [
    "B = []\n",
    "G = []\n",
    "R = []\n",
    "for i in range (1,11):\n",
    "    filenameB = \"./Images/crop/cropB/\" + str(i) + \".jpg\"\n",
    "    filenameR = \"./Images/crop/cropR/\" + str(i)  + \".jpg\"\n",
    "    filenameG = \"./Images/crop/cropG/\" + str(i)  + \".jpg\"\n",
    "    BB = cv2.imread(filenameB)\n",
    "    GG = cv2.imread(filenameG)\n",
    "    RR = cv2.imread(filenameR)\n",
    "    B1=BB[1]\n",
    "    averageB = np.mean(B1.reshape(-1, 300), axis=1)*3\n",
    "    c = averageB[0]\n",
    "    B.append(c)\n",
    "    \n",
    "    G1=GG[1]\n",
    "    averageG = np.mean(G1.reshape(-1, 300), axis=1)*3\n",
    "    d = averageG[0]\n",
    "    G.append(d)\n",
    "    \n",
    "    R1=RR[1]\n",
    "    averageR = np.mean(R1.reshape(-1, 300), axis=1)*3\n",
    "    e = averageR[0]\n",
    "    R.append(e)\n",
    " "
   ]
  },
  {
   "cell_type": "code",
   "execution_count": 10,
   "metadata": {},
   "outputs": [
    {
     "name": "stdout",
     "output_type": "stream",
     "text": [
      "[214.53000000000003, 194.2, 159.21, 130.64, 114.44, 95.53, 90.38, 70.86, 48.510000000000005, 36.18]\n"
     ]
    }
   ],
   "source": [
    "print(B)"
   ]
  },
  {
   "cell_type": "code",
   "execution_count": 11,
   "metadata": {},
   "outputs": [],
   "source": [
    "# RGB vs T"
   ]
  },
  {
   "cell_type": "code",
   "execution_count": 12,
   "metadata": {},
   "outputs": [],
   "source": [
    "import matplotlib.pyplot as plt"
   ]
  },
  {
   "cell_type": "code",
   "execution_count": 13,
   "metadata": {},
   "outputs": [],
   "source": [
    "T = [1/351,1/501,1/754,1/1008,1/1520,1/2037,1/3096,1/4167,1/6410,1/8772]"
   ]
  },
  {
   "cell_type": "code",
   "execution_count": 16,
   "metadata": {},
   "outputs": [
    {
     "data": {
      "image/png": "[encoded data removed]",
      "text/plain": [
       "<Figure size 432x288 with 1 Axes>"
      ]
     },
     "metadata": {},
     "output_type": "display_data"
    }
   ],
   "source": [
    "\n",
    "plt.plot(T, R, 'pink')\n",
    "plt.scatter(T, R,color='lightcoral')\n",
    "\n",
    "plt.plot(T, G, 'springgreen')\n",
    "plt.scatter(T, G,color='seagreen')\n",
    "\n",
    "\n",
    "\n",
    "plt.plot(T, B, 'skyblue')\n",
    "plt.scatter(T, B,color='royalblue')\n",
    "\n",
    "plt.xlabel('T(s)')\n",
    "plt.ylabel('B\\'')\n",
    "plt.legend(('Red channel','Green channel','Blue channel'), loc = 'upper left')\n",
    "plt.savefig(\"./Figure/Figure1/BT.png\")\n",
    "plt.show()"
   ]
  },
  {
   "cell_type": "code",
   "execution_count": 17,
   "metadata": {},
   "outputs": [],
   "source": [
    "from math import log\n",
    "B_log=[log(y,10) for y in B]\n",
    "G_log=[log(y,10) for y in G]\n",
    "R_log=[log(y,10) for y in R]\n",
    "T_log=[log(y,10) for y in T]"
   ]
  },
  {
   "cell_type": "code",
   "execution_count": 18,
   "metadata": {},
   "outputs": [],
   "source": [
    "x= np.asarray(T_log)\n",
    "y= np.asarray(R_log)\n",
    "yG= np.asarray(G_log)\n",
    "yB= np.asarray(B_log)"
   ]
  },
  {
   "cell_type": "code",
   "execution_count": 19,
   "metadata": {},
   "outputs": [
    {
     "data": {
      "image/png": "[encoded data removed]",
      "text/plain": [
       "<Figure size 432x288 with 1 Axes>"
      ]
     },
     "metadata": {},
     "output_type": "display_data"
    }
   ],
   "source": [
    "from sklearn.linear_model import LinearRegression\n",
    "#https://jakevdp.github.io/PythonDataScienceHandbook/05.06-linear-regression.html\n",
    "\n",
    "# Red channel\n",
    "modelR = LinearRegression(fit_intercept=True)\n",
    "\n",
    "modelR.fit(x[:, np.newaxis], y)\n",
    "\n",
    "xfit = np.linspace(-4, -2.2, 100)\n",
    "yfit = modelR.predict(xfit[:, np.newaxis])\n",
    "\n",
    "plt.scatter(x, y, color ='lightcoral')\n",
    "plt.plot(xfit, yfit,'pink')\n",
    "\n",
    "#Green channel\n",
    "modelG = LinearRegression(fit_intercept=True)\n",
    "\n",
    "modelG.fit(x[:, np.newaxis], yB)\n",
    "\n",
    "xfit = np.linspace(-4, -2.25, 100)\n",
    "yfitB = modelG.predict(xfit[:, np.newaxis])\n",
    "\n",
    "plt.scatter(x, yB, color ='springgreen')\n",
    "plt.plot(xfit, yfitB,'seagreen')\n",
    "\n",
    "\n",
    "\n",
    "#Blue channel\n",
    "modelB = LinearRegression(fit_intercept=True)\n",
    "\n",
    "modelB.fit(x[:, np.newaxis], yG)\n",
    "\n",
    "xfit = np.linspace(-4, -2.25, 100)\n",
    "yfitG = modelB.predict(xfit[:, np.newaxis])\n",
    "\n",
    "plt.scatter(x, yG, color = 'royalblue')\n",
    "plt.plot(xfit, yfitG,'skyblue' )\n",
    "\n",
    "\n",
    "plt.legend(('Red channel','Green channel','Blue channel'), loc = 'upper left')\n",
    "\n",
    "\n",
    "\n",
    "plt.xlabel('log T(s)')\n",
    "plt.ylabel('log B\\'')\n",
    "\n",
    "plt.savefig(\"./Figure/Figure1/LinearRegression.png\")"
   ]
  },
  {
   "cell_type": "code",
   "execution_count": 20,
   "metadata": {},
   "outputs": [
    {
     "name": "stdout",
     "output_type": "stream",
     "text": [
      "ModelR slope:     0.5362621842373625\n",
      "ModelR intercept: 3.7188055835048934\n"
     ]
    }
   ],
   "source": [
    "print(\"ModelR slope:    \", modelR.coef_[0])\n",
    "print(\"ModelR intercept:\", modelR.intercept_)"
   ]
  },
  {
   "cell_type": "code",
   "execution_count": 21,
   "metadata": {},
   "outputs": [
    {
     "name": "stdout",
     "output_type": "stream",
     "text": [
      "ModelG slope:     0.5260671169773633\n",
      "ModelG intercept: 3.7112562930468074\n"
     ]
    }
   ],
   "source": [
    "print(\"ModelG slope:    \", modelG.coef_[0])\n",
    "print(\"ModelG intercept:\", modelG.intercept_)"
   ]
  },
  {
   "cell_type": "code",
   "execution_count": 22,
   "metadata": {},
   "outputs": [
    {
     "name": "stdout",
     "output_type": "stream",
     "text": [
      "ModelB slope:     0.5214372505507467\n",
      "ModelB intercept: 3.689125447417296\n"
     ]
    }
   ],
   "source": [
    "print(\"ModelB slope:    \", modelB.coef_[0])\n",
    "print(\"ModelB intercept:\", modelB.intercept_)"
   ]
  },
  {
   "cell_type": "code",
   "execution_count": 23,
   "metadata": {},
   "outputs": [],
   "source": [
    "oneOverG = [modelR.coef_[0], modelG.coef_[0],modelB.coef_[0]]"
   ]
  },
  {
   "cell_type": "code",
   "execution_count": 24,
   "metadata": {},
   "outputs": [
    {
     "name": "stdout",
     "output_type": "stream",
     "text": [
      "[0.5362621842373625, 0.5260671169773633, 0.5214372505507467]\n"
     ]
    }
   ],
   "source": [
    "print(oneOverG)"
   ]
  },
  {
   "cell_type": "code",
   "execution_count": 25,
   "metadata": {},
   "outputs": [],
   "source": [
    "gofB = [1/modelR.coef_[0], 1/modelG.coef_[0],1/modelB.coef_[0]]"
   ]
  },
  {
   "cell_type": "code",
   "execution_count": 26,
   "metadata": {},
   "outputs": [
    {
     "name": "stdout",
     "output_type": "stream",
     "text": [
      "[1.864759495249764, 1.9008981320591267, 1.9177762979990227]\n"
     ]
    }
   ],
   "source": [
    "print(gofB)"
   ]
  },
  {
   "cell_type": "code",
   "execution_count": 27,
   "metadata": {},
   "outputs": [],
   "source": [
    "R_real = R**gofB[0]\n",
    "G_real = G**gofB[1]\n",
    "B_real = B**gofB[2]"
   ]
  },
  {
   "cell_type": "code",
   "execution_count": 28,
   "metadata": {},
   "outputs": [
    {
     "data": {
      "image/png": "[encoded data removed]",
      "text/plain": [
       "<Figure size 432x288 with 1 Axes>"
      ]
     },
     "metadata": {},
     "output_type": "display_data"
    }
   ],
   "source": [
    "plt.plot(T, R_real, 'pink')\n",
    "plt.scatter(T, R_real,color='lightcoral')\n",
    "\n",
    "plt.plot(T, G_real, 'springgreen')\n",
    "plt.scatter(T, G_real,color='seagreen')\n",
    "\n",
    "\n",
    "\n",
    "plt.plot(T, B_real, 'skyblue')\n",
    "plt.scatter(T, B_real,color='royalblue')\n",
    "\n",
    "plt.xlabel('T(s)')\n",
    "plt.ylabel('B = B\\'**g')\n",
    "plt.legend(('Red channel','Green channel','Blue channel'), loc = 'upper left')\n",
    "plt.savefig(\"./Figure/Figure1/BrealT.png\")\n",
    "plt.show()"
   ]
  },
  {
   "cell_type": "code",
   "execution_count": 29,
   "metadata": {},
   "outputs": [],
   "source": [
    "# Part 2: Acquire a picture stack"
   ]
  },
  {
   "cell_type": "code",
   "execution_count": 30,
   "metadata": {},
   "outputs": [],
   "source": [
    "dirListing = os.listdir('./Images/HDRO/')\n",
    "list_HDR = []\n",
    "for item in dirListing:\n",
    "        list_HDR.append('./Images/HDRO/'+item)"
   ]
  },
  {
   "cell_type": "code",
   "execution_count": 31,
   "metadata": {},
   "outputs": [
    {
     "name": "stdout",
     "output_type": "stream",
     "text": [
      "['./Images/HDRO/.DS_Store', './Images/HDRO/HDROR', './Images/HDRO/HDROG', './Images/HDRO/HDROB', './Images/HDRO/2.JPG', './Images/HDRO/3.JPG', './Images/HDRO/1.JPG']\n"
     ]
    }
   ],
   "source": [
    "print(list_HDR)"
   ]
  },
  {
   "cell_type": "code",
   "execution_count": 32,
   "metadata": {},
   "outputs": [],
   "source": [
    "del list_HDR[0]"
   ]
  },
  {
   "cell_type": "code",
   "execution_count": 33,
   "metadata": {},
   "outputs": [
    {
     "name": "stdout",
     "output_type": "stream",
     "text": [
      "['./Images/HDRO/HDROR', './Images/HDRO/HDROG', './Images/HDRO/HDROB', './Images/HDRO/2.JPG', './Images/HDRO/3.JPG', './Images/HDRO/1.JPG']\n"
     ]
    }
   ],
   "source": [
    "print(list_HDR)"
   ]
  },
  {
   "cell_type": "code",
   "execution_count": 34,
   "metadata": {},
   "outputs": [],
   "source": [
    "for i in range (1,4):\n",
    "    filename = \"./Images/HDRO/\" + str(i) + \".jpg\"\n",
    "    #print(filename)\n",
    "    image = cv2.imread(filename)\n",
    "    filenameB = \"./Images/HDRO/HDROB/\" + str(i) + \".jpg\"\n",
    "    filenameR = \"./Images/HDRO/HDROR/\" + str(i)  + \".jpg\"\n",
    "    filenameG = \"./Images/HDRO/HDROG/\" + str(i)  + \".jpg\"\n",
    "    image = cv2.imread(filename)\n",
    "\n",
    "    b = image.copy()\n",
    "    # set green and red channels to 0\n",
    "    b[:, :, 1] = 0\n",
    "    b[:, :, 2] = 0\n",
    "\n",
    "\n",
    "    g = image.copy()\n",
    "    # set blue and red channels to 0\n",
    "    g[:, :, 0] = 0\n",
    "    g[:, :, 2] = 0\n",
    "\n",
    "    r = image.copy()\n",
    "    # set blue and green channels to 0\n",
    "    r[:, :, 0] = 0\n",
    "    r[:, :, 1] = 0\n",
    "    \n",
    "    #RGB - Blue\n",
    "    cv2.imwrite(filenameB,b)\n",
    "    # RGB - Green\n",
    "    cv2.imwrite(filenameG,g)\n",
    "    # RGB Red\n",
    "    cv2.imwrite(filenameR,r)\n",
    "\n",
    "\n"
   ]
  },
  {
   "cell_type": "code",
   "execution_count": 35,
   "metadata": {},
   "outputs": [],
   "source": [
    "TofHDR=[1/180,1/351,1/2037]"
   ]
  },
  {
   "cell_type": "code",
   "execution_count": 36,
   "metadata": {},
   "outputs": [
    {
     "name": "stdout",
     "output_type": "stream",
     "text": [
      "1.9008981320591267\n"
     ]
    }
   ],
   "source": [
    "print(gofB[1])"
   ]
  },
  {
   "cell_type": "code",
   "execution_count": null,
   "metadata": {},
   "outputs": [],
   "source": []
  },
  {
   "cell_type": "code",
   "execution_count": 37,
   "metadata": {},
   "outputs": [],
   "source": [
    "filenameR = \"./HDROR/\" + str(1)  + \".jpg\"\n",
    "img = cv2.imread(filenameR)"
   ]
  },
  {
   "cell_type": "code",
   "execution_count": null,
   "metadata": {},
   "outputs": [],
   "source": []
  },
  {
   "cell_type": "code",
   "execution_count": 38,
   "metadata": {},
   "outputs": [
    {
     "data": {
      "image/png": "[encoded data removed]",
      "text/plain": [
       "<Figure size 432x288 with 1 Axes>"
      ]
     },
     "metadata": {},
     "output_type": "display_data"
    },
    {
     "data": {
      "image/png": "[encoded data removed]",
      "text/plain": [
       "<Figure size 432x288 with 1 Axes>"
      ]
     },
     "metadata": {},
     "output_type": "display_data"
    },
    {
     "data": {
      "image/png": "[encoded data removed]",
      "text/plain": [
       "<Figure size 432x288 with 1 Axes>"
      ]
     },
     "metadata": {},
     "output_type": "display_data"
    }
   ],
   "source": [
    "#Red channel\n",
    "for i in range (1,4):\n",
    "    filenameR = \"./Images/HDRO/HDROR/\" + str(i)  + \".jpg\"\n",
    "    img = cv2.imread(filenameR)\n",
    "    plt.hist(np.power(img.ravel().astype(float),gofB[0]) ,50,[0,300],color = \"pink\") \n",
    "    plt.savefig(\"./Figure/Figure2.2/originalred\"+str(i)+\".png\")\n",
    "    plt.show() \n",
    "   "
   ]
  },
  {
   "cell_type": "code",
   "execution_count": 39,
   "metadata": {},
   "outputs": [
    {
     "data": {
      "image/png": "[encoded data removed]",
      "text/plain": [
       "<Figure size 432x288 with 1 Axes>"
      ]
     },
     "metadata": {},
     "output_type": "display_data"
    },
    {
     "data": {
      "image/png": "[encoded data removed]",
      "text/plain": [
       "<Figure size 432x288 with 1 Axes>"
      ]
     },
     "metadata": {},
     "output_type": "display_data"
    },
    {
     "data": {
      "image/png": "[encoded data removed]",
      "text/plain": [
       "<Figure size 432x288 with 1 Axes>"
      ]
     },
     "metadata": {},
     "output_type": "display_data"
    }
   ],
   "source": [
    "#Green channel\n",
    "for i in range (1,4):\n",
    "    filenameG = \"./Images/HDRO/HDROG/\" + str(i)  + \".jpg\"\n",
    "    img = cv2.imread(filenameG)\n",
    "    plt.hist(np.power(img.ravel().astype(float),gofB[1]),50,[0,300],color = \"limegreen\") \n",
    "    plt.savefig(\"./Figure/Figure2.2/originalgreen\"+str(i)+\".png\")\n",
    "    plt.show() \n",
    "    "
   ]
  },
  {
   "cell_type": "code",
   "execution_count": 40,
   "metadata": {},
   "outputs": [
    {
     "data": {
      "image/png": "[encoded data removed]",
      "text/plain": [
       "<Figure size 432x288 with 1 Axes>"
      ]
     },
     "metadata": {},
     "output_type": "display_data"
    },
    {
     "data": {
      "image/png": "[encoded data removed]",
      "text/plain": [
       "<Figure size 432x288 with 1 Axes>"
      ]
     },
     "metadata": {},
     "output_type": "display_data"
    },
    {
     "data": {
      "image/png": "[encoded data removed]",
      "text/plain": [
       "<Figure size 432x288 with 1 Axes>"
      ]
     },
     "metadata": {},
     "output_type": "display_data"
    }
   ],
   "source": [
    "#Blue channel\n",
    "for i in range (1,4):\n",
    "    filenameB = \"./Images/HDRO/HDROB/\" + str(i)  + \".jpg\"\n",
    "    img = cv2.imread(filenameB)\n",
    "    plt.hist(img.ravel().astype(float),50,[0,300],color = \"skyblue\") \n",
    "    plt.savefig(\"./Figure/Figure2.2/originalblue\"+str(i)+\".png\")\n",
    "    plt.show() \n",
    "   "
   ]
  },
  {
   "cell_type": "code",
   "execution_count": 41,
   "metadata": {},
   "outputs": [],
   "source": [
    "# a1 = 5.80342"
   ]
  },
  {
   "cell_type": "code",
   "execution_count": 42,
   "metadata": {},
   "outputs": [
    {
     "data": {
      "image/png": "[encoded data removed]",
      "text/plain": [
       "<Figure size 432x288 with 1 Axes>"
      ]
     },
     "metadata": {},
     "output_type": "display_data"
    },
    {
     "data": {
      "image/png": "[encoded data removed]",
      "text/plain": [
       "<Figure size 432x288 with 1 Axes>"
      ]
     },
     "metadata": {},
     "output_type": "display_data"
    },
    {
     "data": {
      "image/png": "[encoded data removed]",
      "text/plain": [
       "<Figure size 432x288 with 1 Axes>"
      ]
     },
     "metadata": {},
     "output_type": "display_data"
    }
   ],
   "source": [
    "#Red channel\n",
    "for i in range (1,4):\n",
    "    filenameR = \"./Images/HDRO/HDROR/\" + str(i)  + \".jpg\"\n",
    "    img = cv2.imread(filenameR)\n",
    "    plt.hist(img.ravel().astype(float)/5.80342,50,[0,300],color = \"pink\") \n",
    "    plt.savefig(\"./Figure/Figure2.3/a5/a5r\"+str(i)+\".png\")\n",
    "    plt.show() \n",
    "   "
   ]
  },
  {
   "cell_type": "code",
   "execution_count": 43,
   "metadata": {},
   "outputs": [
    {
     "data": {
      "image/png": "[encoded data removed]",
      "text/plain": [
       "<Figure size 432x288 with 1 Axes>"
      ]
     },
     "metadata": {},
     "output_type": "display_data"
    },
    {
     "data": {
      "image/png": "[encoded data removed]",
      "text/plain": [
       "<Figure size 432x288 with 1 Axes>"
      ]
     },
     "metadata": {},
     "output_type": "display_data"
    },
    {
     "data": {
      "image/png": "[encoded data removed]",
      "text/plain": [
       "<Figure size 432x288 with 1 Axes>"
      ]
     },
     "metadata": {},
     "output_type": "display_data"
    }
   ],
   "source": [
    "#Green channel\n",
    "for i in range (1,4):\n",
    "    filenameG = \"./Images/HDRO/HDROG/\" + str(i)  + \".jpg\"\n",
    "    img = cv2.imread(filenameG)\n",
    "    plt.hist(img.ravel().astype(float)/5.80342,50,[0,300],color = \"limegreen\") \n",
    "    plt.savefig(\"./Figure/Figure2.3/a5/a5g\"+str(i)+\".png\")\n",
    "    plt.show() \n",
    "    "
   ]
  },
  {
   "cell_type": "code",
   "execution_count": 44,
   "metadata": {},
   "outputs": [
    {
     "data": {
      "image/png": "[encoded data removed]",
      "text/plain": [
       "<Figure size 432x288 with 1 Axes>"
      ]
     },
     "metadata": {},
     "output_type": "display_data"
    },
    {
     "data": {
      "image/png": "[encoded data removed]",
      "text/plain": [
       "<Figure size 432x288 with 1 Axes>"
      ]
     },
     "metadata": {},
     "output_type": "display_data"
    },
    {
     "data": {
      "image/png": "[encoded data removed]",
      "text/plain": [
       "<Figure size 432x288 with 1 Axes>"
      ]
     },
     "metadata": {},
     "output_type": "display_data"
    }
   ],
   "source": [
    "#Blue channel\n",
    "for i in range (1,4):\n",
    "    filenameB = \"./Images/HDRO/HDROB/\" + str(i)  + \".jpg\"\n",
    "    img = cv2.imread(filenameB)\n",
    "    plt.hist(img.ravel().astype(float) /5.80342,50,[0,300],color = \"skyblue\") \n",
    "    plt.savefig(\"./Figure/Figure2.3/a5/a5b\"+str(i)+\".png\")\n",
    "    plt.show() \n",
    "   "
   ]
  },
  {
   "cell_type": "code",
   "execution_count": 45,
   "metadata": {},
   "outputs": [],
   "source": [
    "# a2 = 11.3167"
   ]
  },
  {
   "cell_type": "code",
   "execution_count": 46,
   "metadata": {},
   "outputs": [
    {
     "data": {
      "image/png": "[encoded data removed]",
      "text/plain": [
       "<Figure size 432x288 with 1 Axes>"
      ]
     },
     "metadata": {},
     "output_type": "display_data"
    },
    {
     "data": {
      "image/png": "[encoded data removed]",
      "text/plain": [
       "<Figure size 432x288 with 1 Axes>"
      ]
     },
     "metadata": {},
     "output_type": "display_data"
    },
    {
     "data": {
      "image/png": "[encoded data removed]",
      "text/plain": [
       "<Figure size 432x288 with 1 Axes>"
      ]
     },
     "metadata": {},
     "output_type": "display_data"
    }
   ],
   "source": [
    "#Red channel\n",
    "for i in range (1,4):\n",
    "    filenameR = \"./Images/HDRO/HDROR/\" + str(i)  + \".jpg\"\n",
    "    img = cv2.imread(filenameR)\n",
    "    plt.hist(img.ravel().astype(float) /11.3167,50,[0,300],color = \"pink\") \n",
    "    plt.savefig(\"./Figure/Figure2.3/a10/a10r\"+str(i)+\".png\")\n",
    "    plt.show() \n",
    "   "
   ]
  },
  {
   "cell_type": "code",
   "execution_count": 47,
   "metadata": {},
   "outputs": [
    {
     "data": {
      "image/png": "[encoded data removed]",
      "text/plain": [
       "<Figure size 432x288 with 1 Axes>"
      ]
     },
     "metadata": {},
     "output_type": "display_data"
    },
    {
     "data": {
      "image/png": "[encoded data removed]",
      "text/plain": [
       "<Figure size 432x288 with 1 Axes>"
      ]
     },
     "metadata": {},
     "output_type": "display_data"
    },
    {
     "data": {
      "image/png": "[encoded data removed]",
      "text/plain": [
       "<Figure size 432x288 with 1 Axes>"
      ]
     },
     "metadata": {},
     "output_type": "display_data"
    }
   ],
   "source": [
    "#Green channel\n",
    "for i in range (1,4):\n",
    "    filenameG = \"./Images/HDRO/HDROG/\" + str(i)  + \".jpg\"\n",
    "    img = cv2.imread(filenameG)\n",
    "    plt.hist(img.ravel().astype(float) /11.3167,50,[0,300],color = \"limegreen\") \n",
    "    plt.savefig(\"./Figure/Figure2.3/a10/a10g\"+str(i)+\".png\")\n",
    "    plt.show() \n",
    "    "
   ]
  },
  {
   "cell_type": "code",
   "execution_count": 48,
   "metadata": {},
   "outputs": [
    {
     "data": {
      "image/png": "[encoded data removed]",
      "text/plain": [
       "<Figure size 432x288 with 1 Axes>"
      ]
     },
     "metadata": {},
     "output_type": "display_data"
    },
    {
     "data": {
      "image/png": "[encoded data removed]",
      "text/plain": [
       "<Figure size 432x288 with 1 Axes>"
      ]
     },
     "metadata": {},
     "output_type": "display_data"
    },
    {
     "data": {
      "image/png": "[encoded data removed]",
      "text/plain": [
       "<Figure size 432x288 with 1 Axes>"
      ]
     },
     "metadata": {},
     "output_type": "display_data"
    }
   ],
   "source": [
    "#Blue channel\n",
    "for i in range (1,4):\n",
    "    filenameB = \"./Images/HDRO/HDROB/\" + str(i)  + \".jpg\"\n",
    "    img = cv2.imread(filenameB)\n",
    "    plt.hist(img.ravel().astype(float) /11.3167,50,[0,300],color = \"skyblue\") \n",
    "    plt.savefig(\"./Figure/Figure2.3/a10/a10b\"+str(i)+\".png\")\n",
    "    plt.show() \n",
    "   "
   ]
  },
  {
   "cell_type": "code",
   "execution_count": null,
   "metadata": {},
   "outputs": [],
   "source": []
  },
  {
   "cell_type": "code",
   "execution_count": 49,
   "metadata": {},
   "outputs": [],
   "source": [
    "# Part 4: Reproduce composite image"
   ]
  },
  {
   "cell_type": "code",
   "execution_count": 50,
   "metadata": {},
   "outputs": [],
   "source": [
    "# image"
   ]
  },
  {
   "cell_type": "code",
   "execution_count": 51,
   "metadata": {},
   "outputs": [],
   "source": [
    "\n",
    "img1 = cv2.imread(\"./Images/HDRO/1.jpg\")\n",
    "img2 = cv2.imread(\"./Images/HDRO/2.jpg\")\n",
    "img3 = cv2.imread(\"./Images/HDRO/3.jpg\")\n"
   ]
  },
  {
   "cell_type": "code",
   "execution_count": 52,
   "metadata": {},
   "outputs": [
    {
     "data": {
      "text/plain": [
       "(3024, 4032, 3)"
      ]
     },
     "execution_count": 52,
     "metadata": {},
     "output_type": "execute_result"
    }
   ],
   "source": [
    "img1.shape"
   ]
  },
  {
   "cell_type": "code",
   "execution_count": 53,
   "metadata": {},
   "outputs": [
    {
     "data": {
      "text/plain": [
       "(3024, 4032, 3)"
      ]
     },
     "execution_count": 53,
     "metadata": {},
     "output_type": "execute_result"
    }
   ],
   "source": [
    "img2.shape"
   ]
  },
  {
   "cell_type": "code",
   "execution_count": 54,
   "metadata": {},
   "outputs": [
    {
     "data": {
      "text/plain": [
       "(3024, 4032, 3)"
      ]
     },
     "execution_count": 54,
     "metadata": {},
     "output_type": "execute_result"
    }
   ],
   "source": [
    "img3.shape"
   ]
  },
  {
   "cell_type": "code",
   "execution_count": 55,
   "metadata": {},
   "outputs": [],
   "source": [
    "HDR1 = np.zeros(img1.shape)\n",
    "HDR2 = np.zeros(img1.shape)"
   ]
  },
  {
   "cell_type": "code",
   "execution_count": 60,
   "metadata": {},
   "outputs": [],
   "source": [
    "#HDR 1\n",
    "for c in range(3):\n",
    "    for i in range(3024):\n",
    "        for j in range(4032):\n",
    "            if(img2[i,j,c]>255):\n",
    "                HDR1[i,j] = img1[i,j]**gofB[c]\n",
    "            elif((img3[i,j,c]>255) & (img2[i,j,c]< 255)):\n",
    "                HDR1[i,j] = img2[i,j]**gofB[c]/5.80342\n",
    "            else:\n",
    "                HDR1[i,j] = img3[i,j]**gofB[c]/11.3167\n"
   ]
  },
  {
   "cell_type": "code",
   "execution_count": 62,
   "metadata": {},
   "outputs": [
    {
     "data": {
      "text/plain": [
       "True"
      ]
     },
     "execution_count": 62,
     "metadata": {},
     "output_type": "execute_result"
    }
   ],
   "source": [
    "cv2.imwrite(\"HDR1.jpg\",HDR1)"
   ]
  },
  {
   "cell_type": "code",
   "execution_count": 61,
   "metadata": {},
   "outputs": [],
   "source": [
    "# HDR 2\n",
    "for c in range(3):\n",
    "    for i in range(3024):\n",
    "        for j in range(4032):\n",
    "            if(img3[i,j,c]<255):\n",
    "                HDR2[i,j]=(img1[i,j]**gofB[c]+img2[i,j]**gofB[c]/5.80342)/2\n",
    "            if(img2[i,j,c]<255):\n",
    "                HDR2[i,j]=(img1[i,j]**gofB[c]+img3[i,j]**gofB[c]/11.3167)/2\n",
    "            if(img1[i,j,c]<255):\n",
    "                HDR2[i,j]=(img2[i,j]**gofB[c]/5.80342+img3[i,j]**gofB[c]/11.3167)/2\n",
    "            if(img1[i,j,c]<255 & img2[i,j,c]<255 & img3[i,j,c]<255):\n",
    "                HDR2[i,j]=(img1[i,j]**gofB[c]+img2[i,j]**gofB[c]/5.80342+img3[i,j]**gofB[c]/11.3167)/3\n"
   ]
  },
  {
   "cell_type": "code",
   "execution_count": 63,
   "metadata": {},
   "outputs": [
    {
     "data": {
      "text/plain": [
       "True"
      ]
     },
     "execution_count": 63,
     "metadata": {},
     "output_type": "execute_result"
    }
   ],
   "source": [
    "cv2.imwrite(\"HDR2.jpg\",HDR2)"
   ]
  },
  {
   "cell_type": "code",
   "execution_count": 64,
   "metadata": {},
   "outputs": [],
   "source": [
    "# Part 3: Create a composite image"
   ]
  },
  {
   "cell_type": "code",
   "execution_count": 65,
   "metadata": {},
   "outputs": [],
   "source": [
    "for i in range (1,3):\n",
    "    filename = \"./HDR\" + str(i) + \".jpg\"\n",
    "    #print(filename)\n",
    "    image = cv2.imread(filename)\n",
    "    filenameB = \"./Images/HDR/HDRB\" + str(i) + \".jpg\"\n",
    "    filenameR = \"./Images/HDR/HDRR\" + str(i)  + \".jpg\"\n",
    "    filenameG = \"./Images/HDR/HDRG\" + str(i)  + \".jpg\"\n",
    "    image = cv2.imread(filename)\n",
    "\n",
    "    b = image.copy()\n",
    "    # set green and red channels to 0\n",
    "    b[:, :, 1] = 0\n",
    "    b[:, :, 2] = 0\n",
    "\n",
    "\n",
    "    g = image.copy()\n",
    "    # set blue and red channels to 0\n",
    "    g[:, :, 0] = 0\n",
    "    g[:, :, 2] = 0\n",
    "\n",
    "    r = image.copy()\n",
    "    # set blue and green channels to 0\n",
    "    r[:, :, 0] = 0\n",
    "    r[:, :, 1] = 0\n",
    "    \n",
    "    #RGB - Blue\n",
    "    cv2.imwrite(filenameB,b)\n",
    "    # RGB - Green\n",
    "    cv2.imwrite(filenameG,g)\n",
    "    # RGB Red\n",
    "    cv2.imwrite(filenameR,r)\n",
    "\n"
   ]
  },
  {
   "cell_type": "code",
   "execution_count": 69,
   "metadata": {},
   "outputs": [
    {
     "data": {
      "image/png": "[encoded data removed]",
      "text/plain": [
       "<Figure size 432x288 with 1 Axes>"
      ]
     },
     "metadata": {},
     "output_type": "display_data"
    },
    {
     "data": {
      "image/png": "[encoded data removed]",
      "text/plain": [
       "<Figure size 432x288 with 1 Axes>"
      ]
     },
     "metadata": {},
     "output_type": "display_data"
    }
   ],
   "source": [
    "#Red channel\n",
    "for i in range (1,3):\n",
    "    filenameR = \"./Images/HDR/HDRR\" + str(i) + \".jpg\"\n",
    "    img = cv2.imread(filenameR)\n",
    "    plt.hist(img.ravel().astype(float),50,[0,300],color = \"pink\") \n",
    "    plt.savefig(\"./Figure/Figure3/HDRRH\"+str(i)+\".png\")\n",
    "    plt.show() "
   ]
  },
  {
   "cell_type": "code",
   "execution_count": 73,
   "metadata": {},
   "outputs": [
    {
     "name": "stdout",
     "output_type": "stream",
     "text": [
      "./Images/HDR/HDRG1.jpg\n"
     ]
    },
    {
     "data": {
      "image/png": "[encoded data removed]",
      "text/plain": [
       "<Figure size 432x288 with 1 Axes>"
      ]
     },
     "metadata": {},
     "output_type": "display_data"
    },
    {
     "name": "stdout",
     "output_type": "stream",
     "text": [
      "./Images/HDR/HDRG2.jpg\n"
     ]
    },
    {
     "data": {
      "image/png": "[encoded data removed]",
      "text/plain": [
       "<Figure size 432x288 with 1 Axes>"
      ]
     },
     "metadata": {},
     "output_type": "display_data"
    }
   ],
   "source": [
    "#Green channel\n",
    "for i in range (1,3):\n",
    "    filenameG = \"./Images/HDR/HDRG\" + str(i) + \".jpg\"\n",
    "    print(filenameG)\n",
    "    img = cv2.imread(filenameG)\n",
    "    plt.hist(img.ravel().astype(float),50,[0,300],color = \"limegreen\") \n",
    "    plt.savefig(\"./Figure/Figure3/HDRGH\"+str(i)+\".png\")\n",
    "    plt.show() \n",
    "    "
   ]
  },
  {
   "cell_type": "code",
   "execution_count": 74,
   "metadata": {},
   "outputs": [
    {
     "data": {
      "image/png": "[encoded data removed]",
      "text/plain": [
       "<Figure size 432x288 with 1 Axes>"
      ]
     },
     "metadata": {},
     "output_type": "display_data"
    },
    {
     "data": {
      "image/png": "[encoded data removed]",
      "text/plain": [
       "<Figure size 432x288 with 1 Axes>"
      ]
     },
     "metadata": {},
     "output_type": "display_data"
    }
   ],
   "source": [
    "#Blue channel\n",
    "for i in range (1,3):\n",
    "    filenameB = \"./Images/HDR/HDRB\" + str(i) + \".jpg\"\n",
    "    img = cv2.imread(filenameB)\n",
    "    plt.hist(img.ravel().astype(float),50,[0,300],color = \"skyblue\") \n",
    "    plt.savefig(\"./Figure/Figure3/HDRBH\"+str(i)+\".png\")\n",
    "    plt.show() "
   ]
  },
  {
   "cell_type": "code",
   "execution_count": null,
   "metadata": {},
   "outputs": [],
   "source": []
  },
  {
   "cell_type": "code",
   "execution_count": null,
   "metadata": {},
   "outputs": [],
   "source": []
  },
  {
   "cell_type": "code",
   "execution_count": null,
   "metadata": {},
   "outputs": [],
   "source": []
  }
 ],
 "metadata": {
  "kernelspec": {
   "display_name": "Python 3",
   "language": "python",
   "name": "python3"
  },
  "language_info": {
   "codemirror_mode": {
    "name": "ipython",
    "version": 3
   },
   "file_extension": ".py",
   "mimetype": "text/x-python",
   "name": "python",
   "nbconvert_exporter": "python",
   "pygments_lexer": "ipython3",
   "version": "3.6.5"
  }
 },
 "nbformat": 4,
 "nbformat_minor": 2
}
