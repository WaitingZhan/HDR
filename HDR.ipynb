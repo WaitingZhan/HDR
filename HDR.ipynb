{
 "cells": [
  {
   "cell_type": "code",
   "execution_count": 75,
   "metadata": {},
   "outputs": [],
   "source": [
    "import cv2\n",
    "import numpy as np\n",
    "from matplotlib import pyplot as plt"
   ]
  },
  {
   "cell_type": "code",
   "execution_count": 76,
   "metadata": {},
   "outputs": [],
   "source": [
    "# Part 1: Camera radiometric calibration\n",
    "# 1.1 Read the Original Picture,crop out a central portion of each images"
   ]
  },
  {
   "cell_type": "code",
   "execution_count": 77,
   "metadata": {},
   "outputs": [],
   "source": [
    "import sys\n",
    "import PIL\n",
    "from PIL import Image\n",
    "import os\n",
    "dirListing = os.listdir('./calibration/')\n",
    "list_im = []\n",
    "for item in dirListing:\n",
    "        list_im.append('./calibration/'+item)\n",
    "   "
   ]
  },
  {
   "cell_type": "code",
   "execution_count": 78,
   "metadata": {},
   "outputs": [
    {
     "name": "stdout",
     "output_type": "stream",
     "text": [
      "['./calibration/8.JPG', './calibration/9.JPG', './calibration/10.JPG', './calibration/4.JPG', './calibration/5.JPG', './calibration/7.JPG', './calibration/6.JPG', './calibration/2.JPG', './calibration/3.JPG', './calibration/1.JPG']\n"
     ]
    }
   ],
   "source": [
    "print(list_im)"
   ]
  },
  {
   "cell_type": "code",
   "execution_count": 79,
   "metadata": {},
   "outputs": [],
   "source": [
    "for i in list_im:\n",
    "    if i == \"./calibration/.DS_Store\":continue\n",
    "    else:\n",
    "        img = cv2.imread(i)\n",
    "        #print(i)\n",
    "        cropped = img[1500:1600, 2000:2100]\n",
    "        filename = i.replace(\"calibration\",\"crop\")\n",
    "        #print(filename)\n",
    "        cv2.imwrite(filename,cropped)"
   ]
  },
  {
   "cell_type": "code",
   "execution_count": 80,
   "metadata": {},
   "outputs": [],
   "source": [
    "#split the crop image into RGB image\n",
    "for i in range (1,11):\n",
    "    filename = \"./crop/\" + str(i) + \".jpg\"\n",
    "    #print(filename)\n",
    "    image = cv2.imread(filename)\n",
    "    filenameB = \"./cropB/\" + str(i) + \".jpg\"\n",
    "    filenameR = \"./cropR/\" + str(i)  + \".jpg\"\n",
    "    filenameG = \"./cropG/\" + str(i)  + \".jpg\"\n",
    "    image = cv2.imread(filename)\n",
    "\n",
    "    b = image.copy()\n",
    "    # set green and red channels to 0\n",
    "    b[:, :, 1] = 0\n",
    "    b[:, :, 2] = 0\n",
    "\n",
    "\n",
    "    g = image.copy()\n",
    "    # set blue and red channels to 0\n",
    "    g[:, :, 0] = 0\n",
    "    g[:, :, 2] = 0\n",
    "\n",
    "    r = image.copy()\n",
    "    # set blue and green channels to 0\n",
    "    r[:, :, 0] = 0\n",
    "    r[:, :, 1] = 0\n",
    "    \n",
    "    #RGB - Blue\n",
    "    cv2.imwrite(filenameB,b)\n",
    "    # RGB - Green\n",
    "    cv2.imwrite(filenameG,g)\n",
    "    # RGB Red\n",
    "    cv2.imwrite(filenameR,r)\n",
    "\n"
   ]
  },
  {
   "cell_type": "code",
   "execution_count": 81,
   "metadata": {},
   "outputs": [],
   "source": [
    "# 1.2 break down the original image into RGB channel"
   ]
  },
  {
   "cell_type": "code",
   "execution_count": 82,
   "metadata": {},
   "outputs": [],
   "source": [
    "# average brighterness value"
   ]
  },
  {
   "cell_type": "code",
   "execution_count": 83,
   "metadata": {},
   "outputs": [],
   "source": [
    "B = []\n",
    "G = []\n",
    "R = []\n",
    "for i in range (1,8):\n",
    "    filenameB = \"./cropB/\" + str(i) + \".jpg\"\n",
    "    filenameR = \"./cropR/\" + str(i)  + \".jpg\"\n",
    "    filenameG = \"./cropG/\" + str(i)  + \".jpg\"\n",
    "    BB = cv2.imread(filenameB)\n",
    "    GG = cv2.imread(filenameG)\n",
    "    RR = cv2.imread(filenameR)\n",
    "    B1=BB[1]\n",
    "    averageB = np.mean(B1.reshape(-1, 300), axis=1)*3\n",
    "    c = averageB[0]\n",
    "    B.append(c)\n",
    "    \n",
    "    G1=GG[1]\n",
    "    averageG = np.mean(G1.reshape(-1, 300), axis=1)*3\n",
    "    d = averageG[0]\n",
    "    G.append(d)\n",
    "    \n",
    "    R1=RR[1]\n",
    "    averageR = np.mean(R1.reshape(-1, 300), axis=1)*3\n",
    "    e = averageR[0]\n",
    "    R.append(e)\n",
    " "
   ]
  },
  {
   "cell_type": "code",
   "execution_count": null,
   "metadata": {},
   "outputs": [],
   "source": []
  },
  {
   "cell_type": "code",
   "execution_count": 84,
   "metadata": {},
   "outputs": [],
   "source": [
    "# RGB vs T"
   ]
  },
  {
   "cell_type": "code",
   "execution_count": 85,
   "metadata": {},
   "outputs": [],
   "source": [
    "import matplotlib.pyplot as plt"
   ]
  },
  {
   "cell_type": "code",
   "execution_count": 86,
   "metadata": {},
   "outputs": [],
   "source": [
    "T = [1/45,1/60,1/80,1/90,1/125,1/250,1/350]"
   ]
  },
  {
   "cell_type": "code",
   "execution_count": 87,
   "metadata": {},
   "outputs": [
    {
     "data": {
      "image/png": "[encoded data removed]",
      "text/plain": [
       "<Figure size 432x288 with 1 Axes>"
      ]
     },
     "metadata": {},
     "output_type": "display_data"
    }
   ],
   "source": [
    "#plt.plot([x, y, 'ro')])\n",
    "plt.plot(T, B, 'C3', zorder=1, lw=3)\n",
    "plt.scatter(T, B, s=120, zorder=2)\n",
    "plt.plot(T, G, 'C3', zorder=1, lw=3)\n",
    "plt.scatter(T, G, s=120, zorder=2)\n",
    "plt.plot(T, R, 'C3', zorder=1, lw=3)\n",
    "plt.scatter(T, R, s=120, zorder=2)\n",
    "plt.xlabel('T(s)')\n",
    "plt.ylabel('B')\n",
    "plt.legend(('histogram'), loc = 'upper left')\n",
    "plt.show()"
   ]
  },
  {
   "cell_type": "code",
   "execution_count": 88,
   "metadata": {},
   "outputs": [],
   "source": [
    "from math import log\n",
    "B_log=[log(y,10) for y in B]\n",
    "G_log=[log(y,10) for y in G]\n",
    "R_log=[log(y,10) for y in R]\n",
    "T_log=[log(y,10) for y in T]"
   ]
  },
  {
   "cell_type": "code",
   "execution_count": 89,
   "metadata": {},
   "outputs": [
    {
     "data": {
      "image/png": "[encoded data removed]",
      "text/plain": [
       "<Figure size 432x288 with 1 Axes>"
      ]
     },
     "metadata": {},
     "output_type": "display_data"
    }
   ],
   "source": [
    "plt.plot(T_log, B_log, 'C3', zorder=1, lw=3)\n",
    "plt.scatter(T_log, B_log, s=120, zorder=2)\n",
    "plt.plot(T_log, G_log, 'C3', zorder=1, lw=3)\n",
    "plt.scatter(T_log, G_log, s=120, zorder=2)\n",
    "plt.plot(T_log, R_log, 'C3', zorder=1, lw=3)\n",
    "plt.scatter(T_log, R_log, s=120, zorder=2)\n",
    "plt.xlabel('T(s)')\n",
    "plt.ylabel('B')\n",
    "plt.legend(('histogram'), loc = 'upper left')\n",
    "plt.show()"
   ]
  },
  {
   "cell_type": "code",
   "execution_count": 90,
   "metadata": {},
   "outputs": [],
   "source": [
    "x= np.asarray(T_log)\n",
    "y= np.asarray(R_log)\n",
    "yG= np.asarray(G_log)\n",
    "yB= np.asarray(B_log)"
   ]
  },
  {
   "cell_type": "code",
   "execution_count": 91,
   "metadata": {},
   "outputs": [
    {
     "data": {
      "text/plain": [
       "Text(0,0.5,'log B')"
      ]
     },
     "execution_count": 91,
     "metadata": {},
     "output_type": "execute_result"
    },
    {
     "data": {
      "image/png": "[encoded data removed]",
      "text/plain": [
       "<Figure size 432x288 with 1 Axes>"
      ]
     },
     "metadata": {},
     "output_type": "display_data"
    }
   ],
   "source": [
    "from sklearn.linear_model import LinearRegression\n",
    "#https://jakevdp.github.io/PythonDataScienceHandbook/05.06-linear-regression.html\n",
    "\n",
    "# Red channel\n",
    "modelR = LinearRegression(fit_intercept=True)\n",
    "\n",
    "modelR.fit(x[:, np.newaxis], y)\n",
    "\n",
    "xfit = np.linspace(-3, -1.6, 100)\n",
    "yfit = modelR.predict(xfit[:, np.newaxis])\n",
    "\n",
    "plt.scatter(x, y)\n",
    "plt.plot(xfit, yfit)\n",
    "\n",
    "#Blue channel\n",
    "modelB = LinearRegression(fit_intercept=True)\n",
    "\n",
    "modelB.fit(x[:, np.newaxis], yG)\n",
    "\n",
    "xfit = np.linspace(-3, -1.6, 100)\n",
    "yfitG = modelB.predict(xfit[:, np.newaxis])\n",
    "\n",
    "plt.scatter(x, yG)\n",
    "plt.plot(xfit, yfitG)\n",
    "\n",
    "\n",
    "\n",
    "#Green channel\n",
    "modelG = LinearRegression(fit_intercept=True)\n",
    "\n",
    "modelG.fit(x[:, np.newaxis], yB)\n",
    "\n",
    "xfit = np.linspace(-3, -1.6, 100)\n",
    "yfitB = modelG.predict(xfit[:, np.newaxis])\n",
    "\n",
    "plt.scatter(x, yB)\n",
    "plt.plot(xfit, yfitB)\n",
    "\n",
    "plt.legend(('histogram'), loc = 'upper left')\n",
    "\n",
    "plt.xlabel('log T(s)')\n",
    "plt.ylabel('log B')"
   ]
  },
  {
   "cell_type": "code",
   "execution_count": 92,
   "metadata": {},
   "outputs": [
    {
     "name": "stdout",
     "output_type": "stream",
     "text": [
      "ModelR slope:     0.44214674916190294\n",
      "ModelR intercept: 3.0152553537932927\n"
     ]
    }
   ],
   "source": [
    "print(\"ModelR slope:    \", modelR.coef_[0])\n",
    "print(\"ModelR intercept:\", modelR.intercept_)"
   ]
  },
  {
   "cell_type": "code",
   "execution_count": 93,
   "metadata": {},
   "outputs": [
    {
     "name": "stdout",
     "output_type": "stream",
     "text": [
      "ModelG slope:     0.4346445951096136\n",
      "ModelG intercept: 3.0228562663092946\n"
     ]
    }
   ],
   "source": [
    "print(\"ModelG slope:    \", modelG.coef_[0])\n",
    "print(\"ModelG intercept:\", modelG.intercept_)"
   ]
  },
  {
   "cell_type": "code",
   "execution_count": 94,
   "metadata": {},
   "outputs": [
    {
     "name": "stdout",
     "output_type": "stream",
     "text": [
      "ModelB slope:     0.4321506687088642\n",
      "ModelB intercept: 3.0093673050928533\n"
     ]
    }
   ],
   "source": [
    "print(\"ModelB slope:    \", modelB.coef_[0])\n",
    "print(\"ModelB intercept:\", modelB.intercept_)"
   ]
  },
  {
   "cell_type": "code",
   "execution_count": 95,
   "metadata": {},
   "outputs": [],
   "source": [
    "oneOverG = [modelR.intercept_, modelG.intercept_, modelB.intercept_]"
   ]
  },
  {
   "cell_type": "code",
   "execution_count": 96,
   "metadata": {},
   "outputs": [
    {
     "name": "stdout",
     "output_type": "stream",
     "text": [
      "[3.0152553537932927, 3.0228562663092946, 3.0093673050928533]\n"
     ]
    }
   ],
   "source": [
    "print(oneOverG)"
   ]
  },
  {
   "cell_type": "code",
   "execution_count": 97,
   "metadata": {},
   "outputs": [],
   "source": [
    "g = [1/modelR.intercept_, 1/modelG.intercept_, 1/modelB.intercept_]"
   ]
  },
  {
   "cell_type": "code",
   "execution_count": 98,
   "metadata": {},
   "outputs": [
    {
     "name": "stdout",
     "output_type": "stream",
     "text": [
      "[0.3316468698884711, 0.33081295036926556, 0.3322957614072787]\n"
     ]
    }
   ],
   "source": [
    "print(g)"
   ]
  },
  {
   "cell_type": "code",
   "execution_count": 99,
   "metadata": {},
   "outputs": [],
   "source": [
    "R_real = R**oneOverG[0]\n",
    "G_real = G**oneOverG[1]\n",
    "B_real = B**oneOverG[2]"
   ]
  },
  {
   "cell_type": "code",
   "execution_count": 100,
   "metadata": {},
   "outputs": [
    {
     "data": {
      "image/png": "[encoded data removed]",
      "text/plain": [
       "<Figure size 432x288 with 1 Axes>"
      ]
     },
     "metadata": {},
     "output_type": "display_data"
    }
   ],
   "source": [
    "plt.plot(T, B_real, 'C3', zorder=1, lw=3)\n",
    "plt.scatter(T, B_real, s=120, zorder=2)\n",
    "plt.plot(T, G_real, 'C3', zorder=1, lw=3)\n",
    "plt.scatter(T, G_real, s=120, zorder=2)\n",
    "plt.plot(T, R_real, 'C3', zorder=1, lw=3)\n",
    "plt.scatter(T, R_real, s=120, zorder=2)\n",
    "plt.xlabel('T(s)')\n",
    "plt.ylabel('B')\n",
    "plt.legend(('histogram'), loc = 'upper left')\n",
    "plt.show()"
   ]
  },
  {
   "cell_type": "code",
   "execution_count": 101,
   "metadata": {},
   "outputs": [],
   "source": [
    "# Part 2: Acquire a picture stack"
   ]
  },
  {
   "cell_type": "code",
   "execution_count": 108,
   "metadata": {},
   "outputs": [],
   "source": [
    "import os\n",
    "dirListing = os.listdir('./HDRO/')\n",
    "list_HDR = []\n",
    "for item in dirListing:\n",
    "        list_HDR.append('./HDRO/'+item)"
   ]
  },
  {
   "cell_type": "code",
   "execution_count": 109,
   "metadata": {},
   "outputs": [
    {
     "name": "stdout",
     "output_type": "stream",
     "text": [
      "['./HDRO/.DS_Store', './HDRO/1_60.JPG', './HDRO/1_251.JPG', './HDRO/1_2037.JPG']\n"
     ]
    }
   ],
   "source": [
    "print(list_HDR)"
   ]
  },
  {
   "cell_type": "code",
   "execution_count": 110,
   "metadata": {},
   "outputs": [],
   "source": [
    "del list_HDR[0]"
   ]
  },
  {
   "cell_type": "code",
   "execution_count": 111,
   "metadata": {},
   "outputs": [
    {
     "name": "stdout",
     "output_type": "stream",
     "text": [
      "['./HDRO/1_60.JPG', './HDRO/1_251.JPG', './HDRO/1_2037.JPG']\n"
     ]
    }
   ],
   "source": [
    "print(list_HDR)"
   ]
  },
  {
   "cell_type": "code",
   "execution_count": 112,
   "metadata": {},
   "outputs": [],
   "source": [
    "for i in range (1,4):\n",
    "    filename = \"./HDRO/\" + str(i) + \".jpg\"\n",
    "    #print(filename)\n",
    "    image = cv2.imread(filename)\n",
    "    filenameB = \"./HDROB/\" + str(i) + \".jpg\"\n",
    "    filenameR = \"./HDROR/\" + str(i)  + \".jpg\"\n",
    "    filenameG = \"./HDROG/\" + str(i)  + \".jpg\"\n",
    "    image = cv2.imread(filename)\n",
    "\n",
    "    b = image.copy()\n",
    "    # set green and red channels to 0\n",
    "    b[:, :, 1] = 0\n",
    "    b[:, :, 2] = 0\n",
    "\n",
    "\n",
    "    g = image.copy()\n",
    "    # set blue and red channels to 0\n",
    "    g[:, :, 0] = 0\n",
    "    g[:, :, 2] = 0\n",
    "\n",
    "    r = image.copy()\n",
    "    # set blue and green channels to 0\n",
    "    r[:, :, 0] = 0\n",
    "    r[:, :, 1] = 0\n",
    "    \n",
    "    #RGB - Blue\n",
    "    cv2.imwrite(filenameB,b)\n",
    "    # RGB - Green\n",
    "    cv2.imwrite(filenameG,g)\n",
    "    # RGB Red\n",
    "    cv2.imwrite(filenameR,r)\n",
    "\n",
    "\n"
   ]
  },
  {
   "cell_type": "code",
   "execution_count": 118,
   "metadata": {},
   "outputs": [
    {
     "name": "stdout",
     "output_type": "stream",
     "text": [
      "BB 1\n"
     ]
    },
    {
     "data": {
      "image/png": "[encoded data removed]",
      "text/plain": [
       "<Figure size 432x288 with 1 Axes>"
      ]
     },
     "metadata": {},
     "output_type": "display_data"
    },
    {
     "name": "stdout",
     "output_type": "stream",
     "text": [
      "GG 1\n"
     ]
    },
    {
     "data": {
      "image/png": "[encoded data removed]",
      "text/plain": [
       "<Figure size 432x288 with 1 Axes>"
      ]
     },
     "metadata": {},
     "output_type": "display_data"
    },
    {
     "name": "stdout",
     "output_type": "stream",
     "text": [
      "RR 1\n"
     ]
    },
    {
     "data": {
      "image/png": "[encoded data removed]",
      "text/plain": [
       "<Figure size 432x288 with 1 Axes>"
      ]
     },
     "metadata": {},
     "output_type": "display_data"
    },
    {
     "name": "stdout",
     "output_type": "stream",
     "text": [
      "BB 2\n"
     ]
    },
    {
     "data": {
      "image/png": "[encoded data removed]",
      "text/plain": [
       "<Figure size 432x288 with 1 Axes>"
      ]
     },
     "metadata": {},
     "output_type": "display_data"
    },
    {
     "name": "stdout",
     "output_type": "stream",
     "text": [
      "GG 2\n"
     ]
    },
    {
     "data": {
      "image/png": "[encoded data removed]",
      "text/plain": [
       "<Figure size 432x288 with 1 Axes>"
      ]
     },
     "metadata": {},
     "output_type": "display_data"
    },
    {
     "name": "stdout",
     "output_type": "stream",
     "text": [
      "RR 2\n"
     ]
    },
    {
     "data": {
      "image/png": "[encoded data removed]",
      "text/plain": [
       "<Figure size 432x288 with 1 Axes>"
      ]
     },
     "metadata": {},
     "output_type": "display_data"
    },
    {
     "name": "stdout",
     "output_type": "stream",
     "text": [
      "BB 3\n"
     ]
    },
    {
     "data": {
      "image/png": "[encoded data removed]",
      "text/plain": [
       "<Figure size 432x288 with 1 Axes>"
      ]
     },
     "metadata": {},
     "output_type": "display_data"
    },
    {
     "name": "stdout",
     "output_type": "stream",
     "text": [
      "GG 3\n"
     ]
    },
    {
     "data": {
      "image/png": "[encoded data removed]",
      "text/plain": [
       "<Figure size 432x288 with 1 Axes>"
      ]
     },
     "metadata": {},
     "output_type": "display_data"
    },
    {
     "name": "stdout",
     "output_type": "stream",
     "text": [
      "RR 3\n"
     ]
    },
    {
     "data": {
      "image/png": "[encoded data removed]",
      "text/plain": [
       "<Figure size 432x288 with 1 Axes>"
      ]
     },
     "metadata": {},
     "output_type": "display_data"
    }
   ],
   "source": [
    "\n",
    "for i in range (1,4):\n",
    "    filenameB = \"./HDROB/\" + str(i) + \".jpg\"\n",
    "    filenameR = \"./HDROR/\" + str(i)  + \".jpg\"\n",
    "    filenameG = \"./HDROG/\" + str(i)  + \".jpg\"\n",
    "    BB = cv2.imread(filenameB)\n",
    "    GG = cv2.imread(filenameG)\n",
    "    RR = cv2.imread(filenameR)\n",
    "    print(\"BB\",i)\n",
    "    hist,bins = np.histogram(BB.flatten(),256,[0,256])\n",
    "    plt.hist(img.flatten(),256,[0,256], color = 'pink')\n",
    "    plt.xlim([0,256])\n",
    "    plt.legend(('histogram'), loc = 'upper left')\n",
    "    plt.show()\n",
    "    \n",
    "    print(\"GG\",i)\n",
    "    hist,bins = np.histogram(GG.flatten(),256,[0,256])\n",
    "    plt.hist(img.flatten(),256,[0,256], color = 'pink')\n",
    "    plt.xlim([0,256])\n",
    "    plt.legend(('histogram'), loc = 'upper left')\n",
    "    plt.show()\n",
    "    \n",
    "    \n",
    "    print(\"RR\",i)\n",
    "    hist,bins = np.histogram(RR.flatten(),256,[0,256])\n",
    "    plt.hist(img.flatten(),256,[0,256], color = 'pink')\n",
    "    plt.xlim([0,256])\n",
    "    plt.legend(('histogram'), loc = 'upper left')\n",
    "    plt.show()"
   ]
  },
  {
   "cell_type": "code",
   "execution_count": null,
   "metadata": {},
   "outputs": [],
   "source": []
  },
  {
   "cell_type": "code",
   "execution_count": null,
   "metadata": {},
   "outputs": [],
   "source": []
  },
  {
   "cell_type": "code",
   "execution_count": null,
   "metadata": {},
   "outputs": [],
   "source": []
  },
  {
   "cell_type": "code",
   "execution_count": 16,
   "metadata": {},
   "outputs": [
    {
     "data": {
      "image/png": "[encoded data removed]",
      "text/plain": [
       "<Figure size 432x288 with 1 Axes>"
      ]
     },
     "metadata": {},
     "output_type": "display_data"
    }
   ],
   "source": [
    "hist,bins = np.histogram(BB.flatten(),256,[0,256])\n",
    "plt.hist(img.flatten(),256,[0,256], color = 'pink')\n",
    "plt.xlim([0,256])\n",
    "plt.legend(('histogram'), loc = 'upper left')\n",
    "plt.show()"
   ]
  },
  {
   "cell_type": "code",
   "execution_count": 23,
   "metadata": {},
   "outputs": [
    {
     "name": "stdout",
     "output_type": "stream",
     "text": [
      "[[200 200 200 ... 197 197 197]\n",
      " [199 199 199 ... 196 196 196]\n",
      " [198 198 198 ... 194 194 194]\n",
      " ...\n",
      " [197 197 197 ... 195 195 195]\n",
      " [196 196 196 ... 195 195 195]\n",
      " [196 196 196 ... 196 196 196]]\n"
     ]
    }
   ],
   "source": []
  },
  {
   "cell_type": "code",
   "execution_count": 20,
   "metadata": {},
   "outputs": [],
   "source": []
  },
  {
   "cell_type": "code",
   "execution_count": null,
   "metadata": {},
   "outputs": [],
   "source": []
  },
  {
   "cell_type": "code",
   "execution_count": 21,
   "metadata": {},
   "outputs": [],
   "source": [
    "# Part 3: Create a composite image"
   ]
  },
  {
   "cell_type": "code",
   "execution_count": null,
   "metadata": {},
   "outputs": [],
   "source": []
  },
  {
   "cell_type": "code",
   "execution_count": 22,
   "metadata": {},
   "outputs": [
    {
     "name": "stdout",
     "output_type": "stream",
     "text": [
      "['./calibration/1.jpeg', './calibration/6.jpeg', './calibration/7.jpeg', './calibration/8.jpeg', './calibration/4.jpeg', './calibration/5.jpeg', './calibration/2.jpeg', './calibration/3.jpeg']\n"
     ]
    }
   ],
   "source": []
  },
  {
   "cell_type": "code",
   "execution_count": null,
   "metadata": {},
   "outputs": [],
   "source": []
  },
  {
   "cell_type": "code",
   "execution_count": null,
   "metadata": {},
   "outputs": [],
   "source": []
  },
  {
   "cell_type": "code",
   "execution_count": null,
   "metadata": {},
   "outputs": [],
   "source": []
  },
  {
   "cell_type": "code",
   "execution_count": null,
   "metadata": {},
   "outputs": [],
   "source": []
  },
  {
   "cell_type": "code",
   "execution_count": null,
   "metadata": {},
   "outputs": [],
   "source": []
  },
  {
   "cell_type": "code",
   "execution_count": null,
   "metadata": {},
   "outputs": [],
   "source": []
  },
  {
   "cell_type": "code",
   "execution_count": null,
   "metadata": {},
   "outputs": [],
   "source": []
  },
  {
   "cell_type": "code",
   "execution_count": null,
   "metadata": {},
   "outputs": [],
   "source": []
  },
  {
   "cell_type": "code",
   "execution_count": null,
   "metadata": {},
   "outputs": [],
   "source": []
  },
  {
   "cell_type": "code",
   "execution_count": null,
   "metadata": {},
   "outputs": [],
   "source": []
  },
  {
   "cell_type": "code",
   "execution_count": null,
   "metadata": {},
   "outputs": [],
   "source": []
  }
 ],
 "metadata": {
  "kernelspec": {
   "display_name": "Python 3",
   "language": "python",
   "name": "python3"
  },
  "language_info": {
   "codemirror_mode": {
    "name": "ipython",
    "version": 3
   },
   "file_extension": ".py",
   "mimetype": "text/x-python",
   "name": "python",
   "nbconvert_exporter": "python",
   "pygments_lexer": "ipython3",
   "version": "3.6.5"
  }
 },
 "nbformat": 4,
 "nbformat_minor": 2
}
